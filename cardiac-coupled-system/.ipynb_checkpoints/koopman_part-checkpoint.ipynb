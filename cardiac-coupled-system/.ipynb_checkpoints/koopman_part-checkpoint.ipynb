{
 "cells": [
  {
   "cell_type": "code",
   "execution_count": 1,
   "id": "65e43266",
   "metadata": {},
   "outputs": [],
   "source": [
    "import os\n",
    "os.environ['CUDA_VISIBLE_DEVICES'] = '2'"
   ]
  },
  {
   "cell_type": "code",
   "execution_count": 2,
   "id": "d4ac2575",
   "metadata": {},
   "outputs": [
    {
     "name": "stderr",
     "output_type": "stream",
     "text": [
      "2023-02-24 13:19:34.118990: I tensorflow/core/platform/cpu_feature_guard.cc:193] This TensorFlow binary is optimized with oneAPI Deep Neural Network Library (oneDNN) to use the following CPU instructions in performance-critical operations:  SSE4.1 SSE4.2 AVX AVX2 AVX512F AVX512_VNNI FMA\n",
      "To enable them in other operations, rebuild TensorFlow with the appropriate compiler flags.\n",
      "2023-02-24 13:19:34.204319: I tensorflow/core/util/port.cc:104] oneDNN custom operations are on. You may see slightly different numerical results due to floating-point round-off errors from different computation orders. To turn them off, set the environment variable `TF_ENABLE_ONEDNN_OPTS=0`.\n"
     ]
    }
   ],
   "source": [
    "import tensorflow as tf\n",
    "gpus = tf.config.experimental.list_physical_devices('GPU')\n",
    "if gpus:\n",
    "  try:\n",
    "    tf.config.experimental.set_virtual_device_configuration(\n",
    "        gpus[0],[tf.config.experimental.VirtualDeviceConfiguration(memory_limit=5120)])\n",
    "  except RuntimeError as e:\n",
    "    print(e)"
   ]
  },
  {
   "cell_type": "code",
   "execution_count": 3,
   "id": "a81e5c3f",
   "metadata": {},
   "outputs": [
    {
     "data": {
      "text/html": [
       "<style type='text/css'>\n",
       ".CodeMirror{\n",
       "font-size: 22px;\n",
       "</style>\n"
      ],
      "text/plain": [
       "<IPython.core.display.HTML object>"
      ]
     },
     "metadata": {},
     "output_type": "display_data"
    }
   ],
   "source": [
    "%%html\n",
    "<style type='text/css'>\n",
    ".CodeMirror{\n",
    "font-size: 22px;\n",
    "</style>"
   ]
  },
  {
   "cell_type": "code",
   "execution_count": 4,
   "id": "b54595be",
   "metadata": {},
   "outputs": [],
   "source": [
    "%load_ext autoreload\n",
    "%autoreload 2"
   ]
  },
  {
   "cell_type": "code",
   "execution_count": 5,
   "id": "3324d259",
   "metadata": {},
   "outputs": [],
   "source": [
    "import numpy as np\n",
    "from Cardiac_electrophysiology import *"
   ]
  },
  {
   "cell_type": "code",
   "execution_count": 6,
   "id": "64c51eb6",
   "metadata": {},
   "outputs": [
    {
     "name": "stdout",
     "output_type": "stream",
     "text": [
      "(50, 3, 51, 51)\n",
      "(50, 51, 51)\n"
     ]
    }
   ],
   "source": [
    "# Load data\n",
    "s = np.load('s_sample_50.npy')\n",
    "v = np.load('v_sample_50.npy')\n",
    "\n",
    "print(np.shape(s))\n",
    "print(np.shape(v))"
   ]
  },
  {
   "cell_type": "code",
   "execution_count": 7,
   "id": "0f2e33aa",
   "metadata": {},
   "outputs": [
    {
     "name": "stdout",
     "output_type": "stream",
     "text": [
      "(50, 51, 51)\n"
     ]
    }
   ],
   "source": [
    "# Build the input tensor\n",
    "DataModel = CE_DataModel()\n",
    "x1 = np.linspace(0,10,51)\n",
    "t = np.linspace(0,10,50)\n",
    "u_t = np.sin(t)\n",
    "u_x_mesh = DataModel.dx(x1,x1)\n",
    "u = u_t[:,np.newaxis,np.newaxis] * u_x_mesh[np.newaxis,:]\n",
    "print(np.shape(u))"
   ]
  },
  {
   "cell_type": "code",
   "execution_count": 8,
   "id": "cf4e1cdc",
   "metadata": {},
   "outputs": [],
   "source": [
    "# Build v_xx\n",
    "dlt_x = x1[1]-x1[0]\n",
    "v_train_xx = np.zeros(np.shape(v))\n",
    "for i in range(1, np.shape(v)[2]-1):\n",
    "    v_train_xx[:,:,i] = (v[:,:,i-1] + v[:,:,i+1] - 2*v[:,:,i])/dlt_x**2\n",
    "v_train_xx = v_train_xx[:,1:-1,1:-1]\n",
    "\n",
    "# Build v_yy\n",
    "dlt_y = x1[1]-x1[0]\n",
    "v_train_yy = np.zeros(np.shape(v))\n",
    "for i in range(1, np.shape(v)[1]-1):\n",
    "    v_train_yy[:,i,:] = (v[:,i-1,:] + v[:,i+1,:] - 2*v[:,i,:])/dlt_y**2\n",
    "v_train_yy = v_train_yy[:,1:-1,1:-1]\n",
    "\n",
    "# Build v_data, s_data\n",
    "v_train = v[:,1:-1,1:-1]\n",
    "s_train = s[:,:,1:-1,1:-1]"
   ]
  },
  {
   "cell_type": "code",
   "execution_count": 9,
   "id": "163269d1",
   "metadata": {},
   "outputs": [
    {
     "name": "stdout",
     "output_type": "stream",
     "text": [
      "(115248, 4)\n",
      "(115248, 2)\n",
      "(115248, 1)\n"
     ]
    }
   ],
   "source": [
    "# Build training data\n",
    "v1 = np.reshape(v_train[2:,:,:],(-1, 1))\n",
    "v0 = np.reshape(v_train[1:-1,:,:],(-1,1))\n",
    "lacev_x0 = np.reshape(v_train_xx[1:-1,:,:],(-1,1))\n",
    "lacev_y0 = np.reshape(v_train_yy[1:-1,:,:],(-1,1))\n",
    "\n",
    "lace_data = np.concatenate((lacev_x0,lacev_y0),axis=1)\n",
    "\n",
    "m1 = np.reshape(s_train[2:,0,:,:],(-1,1))\n",
    "m0 = np.reshape(s_train[1:-1,0,:,:],(-1,1))\n",
    "n1 = np.reshape(s_train[2:,1,:,:],(-1,1))\n",
    "n0 = np.reshape(s_train[1:-1,1,:,:],(-1,1))\n",
    "h1 = np.reshape(s_train[2:,2,:,:],(-1,1))\n",
    "h0 = np.reshape(s_train[1:-1,2,:,:],(-1,1))\n",
    "\n",
    "x_data = np.concatenate((v0,m0,n0,h0),axis=1)\n",
    "y_data = np.concatenate((v1,m1,n1,h1),axis=1)\n",
    "u_data = np.reshape(u[1:-1,1:-1,1:-1],(-1,1))\n",
    "\n",
    "print(np.shape(x_data))\n",
    "print(np.shape(lace_data))\n",
    "print(np.shape(u_data))"
   ]
  },
  {
   "cell_type": "code",
   "execution_count": 10,
   "id": "e59e6d59",
   "metadata": {},
   "outputs": [],
   "source": [
    "from sklearn import preprocessing\n",
    "import numpy as np\n",
    "\n",
    "scaler_x = preprocessing.MinMaxScaler()\n",
    "x_data_scaler = scaler_x.fit_transform(x_data)\n",
    "\n",
    "scaler_y = preprocessing.MinMaxScaler()\n",
    "y_data_scaler = scaler_y.fit_transform(y_data)\n",
    "\n",
    "scaler_u = preprocessing.MinMaxScaler()\n",
    "u_data_scaler = scaler_u.fit_transform(u_data)\n",
    "\n",
    "scaler_lace = preprocessing.MinMaxScaler()\n",
    "lace_data_scaler = scaler_lace.fit_transform(lace_data)"
   ]
  },
  {
   "cell_type": "code",
   "execution_count": 15,
   "id": "5f7d4b03",
   "metadata": {},
   "outputs": [],
   "source": [
    "from dic_operator import *"
   ]
  },
  {
   "cell_type": "code",
   "execution_count": 17,
   "id": "f3354b5b",
   "metadata": {},
   "outputs": [],
   "source": [
    "dic = PsiNN()\n",
    "knn = KNN()"
   ]
  },
  {
   "cell_type": "code",
   "execution_count": 18,
   "id": "38862459",
   "metadata": {},
   "outputs": [],
   "source": [
    "target_dim = 4\n",
    "u_dim = 1"
   ]
  },
  {
   "cell_type": "code",
   "execution_count": 28,
   "id": "4d9eb472",
   "metadata": {},
   "outputs": [],
   "source": [
    "# Build Model\n",
    "def BuildModel(target_dim = 4, u_dim = 1):\n",
    "    dic = PsiNN()\n",
    "    knn = KNN()\n",
    "    inputs_x = Input((target_dim,))\n",
    "    inputs_y = Input((target_dim,))\n",
    "    inputs_u = Input((u_dim,))\n",
    "        \n",
    "    model_psi = Model(inputs=inputs_x, outputs=dic.call(inputs_x))\n",
    "    psi_x = model_psi(inputs_x)\n",
    "    psi_y = model_psi(inputs_y)\n",
    "        \n",
    "    model_k = Model(inputs=inputs_u,outputs=knn.call(inputs_u))\n",
    "    psi_x = tf.expand_dims(psi_x, 1)\n",
    "    psi_y = tf.expand_dims(psi_y, 1)\n",
    "    outputs = tf.matmul(psi_x,model_k(inputs_u))-psi_y\n",
    "    outputs = tf.reshape(outputs,(tf.shape(psi_x)[0],-1))\n",
    "    model_KoopmanDL = Model(inputs=[inputs_x, inputs_y, inputs_u], outputs=outputs)\n",
    "    \n",
    "    return model_k, model_psi, model_KoopmanDL"
   ]
  },
  {
   "cell_type": "code",
   "execution_count": 30,
   "id": "190da2d6",
   "metadata": {},
   "outputs": [
    {
     "ename": "TypeError",
     "evalue": "super(type, obj): obj must be an instance or subtype of type",
     "output_type": "error",
     "traceback": [
      "\u001b[0;31m---------------------------------------------------------------------------\u001b[0m",
      "\u001b[0;31mTypeError\u001b[0m                                 Traceback (most recent call last)",
      "Cell \u001b[0;32mIn[30], line 1\u001b[0m\n\u001b[0;32m----> 1\u001b[0m model_k, model_psi, model_KoopmanDL \u001b[38;5;241m=\u001b[39m \u001b[43mBuildModel\u001b[49m\u001b[43m(\u001b[49m\u001b[43m)\u001b[49m\n",
      "Cell \u001b[0;32mIn[28], line 3\u001b[0m, in \u001b[0;36mBuildModel\u001b[0;34m(target_dim, u_dim)\u001b[0m\n\u001b[1;32m      2\u001b[0m \u001b[38;5;28;01mdef\u001b[39;00m \u001b[38;5;21mBuildModel\u001b[39m(target_dim \u001b[38;5;241m=\u001b[39m \u001b[38;5;241m4\u001b[39m, u_dim \u001b[38;5;241m=\u001b[39m \u001b[38;5;241m1\u001b[39m):\n\u001b[0;32m----> 3\u001b[0m     dic \u001b[38;5;241m=\u001b[39m \u001b[43mPsiNN\u001b[49m\u001b[43m(\u001b[49m\u001b[43m)\u001b[49m\n\u001b[1;32m      4\u001b[0m     knn \u001b[38;5;241m=\u001b[39m KNN()\n\u001b[1;32m      5\u001b[0m     inputs_x \u001b[38;5;241m=\u001b[39m Input((target_dim,))\n",
      "File \u001b[0;32m~/code/Hybrid-koopman/examples/linear_regression + koopman/dic_operator.py:54\u001b[0m, in \u001b[0;36mPsiNN.__init__\u001b[0;34m(self, dic_trainable, layer_sizes, n_psi_train, **kwargs)\u001b[0m\n\u001b[1;32m     48\u001b[0m \u001b[38;5;28;01mdef\u001b[39;00m \u001b[38;5;21m__init__\u001b[39m(\n\u001b[1;32m     49\u001b[0m     \u001b[38;5;28mself\u001b[39m,\n\u001b[1;32m     50\u001b[0m     dic_trainable\u001b[38;5;241m=\u001b[39mDicNN,\n\u001b[1;32m     51\u001b[0m     layer_sizes\u001b[38;5;241m=\u001b[39m[\u001b[38;5;241m64\u001b[39m,\u001b[38;5;241m64\u001b[39m],\n\u001b[1;32m     52\u001b[0m     n_psi_train\u001b[38;5;241m=\u001b[39m\u001b[38;5;241m22\u001b[39m,\n\u001b[1;32m     53\u001b[0m     \u001b[38;5;241m*\u001b[39m\u001b[38;5;241m*\u001b[39mkwargs):\n\u001b[0;32m---> 54\u001b[0m     \u001b[38;5;28;43msuper\u001b[39;49m\u001b[43m(\u001b[49m\u001b[43mPsiNN\u001b[49m\u001b[43m,\u001b[49m\u001b[43m \u001b[49m\u001b[38;5;28;43mself\u001b[39;49m\u001b[43m)\u001b[49m\u001b[38;5;241m.\u001b[39m\u001b[38;5;21m__init__\u001b[39m(\u001b[38;5;241m*\u001b[39m\u001b[38;5;241m*\u001b[39mkwargs)\n\u001b[1;32m     55\u001b[0m     \u001b[38;5;28mself\u001b[39m\u001b[38;5;241m.\u001b[39mlayer_sizes \u001b[38;5;241m=\u001b[39m layer_sizes\n\u001b[1;32m     56\u001b[0m     \u001b[38;5;28mself\u001b[39m\u001b[38;5;241m.\u001b[39mdic_trainable \u001b[38;5;241m=\u001b[39m dic_trainable\n",
      "\u001b[0;31mTypeError\u001b[0m: super(type, obj): obj must be an instance or subtype of type"
     ]
    }
   ],
   "source": [
    "model_k, model_psi, model_KoopmanDL = BuildModel()"
   ]
  },
  {
   "cell_type": "code",
   "execution_count": 23,
   "id": "12630d90",
   "metadata": {},
   "outputs": [
    {
     "name": "stdout",
     "output_type": "stream",
     "text": [
      "WARNING:tensorflow:Inconsistent references when loading the checkpoint into this object graph. For example, in the saved checkpoint object, `model.layer.weight` and `model.layer_copy.weight` reference the same variable, while in the current object these are two different variables. The referenced variables are:(<keras.engine.functional.Functional object at 0x7f7608682be0> and <keras.engine.input_layer.InputLayer object at 0x7f760869c6d0>).\n",
      "WARNING:tensorflow:Inconsistent references when loading the checkpoint into this object graph. For example, in the saved checkpoint object, `model.layer.weight` and `model.layer_copy.weight` reference the same variable, while in the current object these are two different variables. The referenced variables are:(<keras.engine.functional.Functional object at 0x7f760868b3d0> and <keras.engine.input_layer.InputLayer object at 0x7f76086af580>).\n",
      "WARNING:tensorflow:Inconsistent references when loading the checkpoint into this object graph. For example, in the saved checkpoint object, `model.layer.weight` and `model.layer_copy.weight` reference the same variable, while in the current object these are two different variables. The referenced variables are:(<keras.layers.core.dense.Dense object at 0x7f760869c310> and <keras.layers.core.tf_op_layer.TFOpLambda object at 0x7f7608684dc0>).\n",
      "WARNING:tensorflow:Inconsistent references when loading the checkpoint into this object graph. For example, in the saved checkpoint object, `model.layer.weight` and `model.layer_copy.weight` reference the same variable, while in the current object these are two different variables. The referenced variables are:(<keras.engine.functional.Functional object at 0x7f7608682be0> and <keras.engine.input_layer.InputLayer object at 0x7f760869c6d0>).\n",
      "WARNING:tensorflow:Inconsistent references when loading the checkpoint into this object graph. For example, in the saved checkpoint object, `model.layer.weight` and `model.layer_copy.weight` reference the same variable, while in the current object these are two different variables. The referenced variables are:(<dic_operator.DicNN object at 0x7f76086a8100> and <keras.layers.core.tf_op_layer.TFOpLambda object at 0x7f76086af2b0>).\n"
     ]
    },
    {
     "data": {
      "text/plain": [
       "<tensorflow.python.checkpoint.checkpoint.CheckpointLoadStatus at 0x7f7608609910>"
      ]
     },
     "execution_count": 23,
     "metadata": {},
     "output_type": "execute_result"
    }
   ],
   "source": [
    "model_KoopmanDL.load_weights('./checkpoints/ckpt')"
   ]
  },
  {
   "cell_type": "code",
   "execution_count": 24,
   "id": "1d893573",
   "metadata": {},
   "outputs": [],
   "source": [
    "def predict_v_koopman(model_psi, model_k, x_train, u_train):\n",
    "    psi_x = model_psi(x_train)\n",
    "    psi_x = tf.expand_dims(psi_x, 1)\n",
    "    outputs = tf.matmul(psi_x,model_k(u_train))\n",
    "    outputs = tf.reshape(outputs,(tf.shape(psi_x)[0],-1))\n",
    "    return outputs[:,1:5]"
   ]
  },
  {
   "cell_type": "code",
   "execution_count": 25,
   "id": "b76153af",
   "metadata": {},
   "outputs": [
    {
     "ename": "InvalidArgumentError",
     "evalue": "{{function_node __wrapped__BatchMatMulV2_device_/job:localhost/replica:0/task:0/device:GPU:0}} Matrix size-incompatible: In[0]: [115248,1,27], In[1]: [115248,32] [Op:BatchMatMulV2]",
     "output_type": "error",
     "traceback": [
      "\u001b[0;31m---------------------------------------------------------------------------\u001b[0m",
      "\u001b[0;31mInvalidArgumentError\u001b[0m                      Traceback (most recent call last)",
      "Cell \u001b[0;32mIn[25], line 1\u001b[0m\n\u001b[0;32m----> 1\u001b[0m y_direct_koopman \u001b[38;5;241m=\u001b[39m \u001b[43mpredict_v_koopman\u001b[49m\u001b[43m(\u001b[49m\u001b[43mmodel_psi\u001b[49m\u001b[43m,\u001b[49m\u001b[43m \u001b[49m\u001b[43mmodel_k\u001b[49m\u001b[43m,\u001b[49m\u001b[43m \u001b[49m\u001b[43mx_data_scaler\u001b[49m\u001b[43m,\u001b[49m\u001b[43m \u001b[49m\u001b[43mu_data_scaler\u001b[49m\u001b[43m)\u001b[49m\n",
      "Cell \u001b[0;32mIn[24], line 4\u001b[0m, in \u001b[0;36mpredict_v_koopman\u001b[0;34m(model_psi, model_k, x_train, u_train)\u001b[0m\n\u001b[1;32m      2\u001b[0m psi_x \u001b[38;5;241m=\u001b[39m model_psi(x_train)\n\u001b[1;32m      3\u001b[0m psi_x \u001b[38;5;241m=\u001b[39m tf\u001b[38;5;241m.\u001b[39mexpand_dims(psi_x, \u001b[38;5;241m1\u001b[39m)\n\u001b[0;32m----> 4\u001b[0m outputs \u001b[38;5;241m=\u001b[39m \u001b[43mtf\u001b[49m\u001b[38;5;241;43m.\u001b[39;49m\u001b[43mmatmul\u001b[49m\u001b[43m(\u001b[49m\u001b[43mpsi_x\u001b[49m\u001b[43m,\u001b[49m\u001b[43mmodel_k\u001b[49m\u001b[43m(\u001b[49m\u001b[43mu_train\u001b[49m\u001b[43m)\u001b[49m\u001b[43m)\u001b[49m\n\u001b[1;32m      5\u001b[0m outputs \u001b[38;5;241m=\u001b[39m tf\u001b[38;5;241m.\u001b[39mreshape(outputs,(tf\u001b[38;5;241m.\u001b[39mshape(psi_x)[\u001b[38;5;241m0\u001b[39m],\u001b[38;5;241m-\u001b[39m\u001b[38;5;241m1\u001b[39m))\n\u001b[1;32m      6\u001b[0m \u001b[38;5;28;01mreturn\u001b[39;00m outputs[:,\u001b[38;5;241m1\u001b[39m:\u001b[38;5;241m5\u001b[39m]\n",
      "File \u001b[0;32m~/anaconda3/envs/tensor-koopman/lib/python3.8/site-packages/tensorflow/python/util/traceback_utils.py:153\u001b[0m, in \u001b[0;36mfilter_traceback.<locals>.error_handler\u001b[0;34m(*args, **kwargs)\u001b[0m\n\u001b[1;32m    151\u001b[0m \u001b[38;5;28;01mexcept\u001b[39;00m \u001b[38;5;167;01mException\u001b[39;00m \u001b[38;5;28;01mas\u001b[39;00m e:\n\u001b[1;32m    152\u001b[0m   filtered_tb \u001b[38;5;241m=\u001b[39m _process_traceback_frames(e\u001b[38;5;241m.\u001b[39m__traceback__)\n\u001b[0;32m--> 153\u001b[0m   \u001b[38;5;28;01mraise\u001b[39;00m e\u001b[38;5;241m.\u001b[39mwith_traceback(filtered_tb) \u001b[38;5;28;01mfrom\u001b[39;00m \u001b[38;5;28mNone\u001b[39m\n\u001b[1;32m    154\u001b[0m \u001b[38;5;28;01mfinally\u001b[39;00m:\n\u001b[1;32m    155\u001b[0m   \u001b[38;5;28;01mdel\u001b[39;00m filtered_tb\n",
      "File \u001b[0;32m~/anaconda3/envs/tensor-koopman/lib/python3.8/site-packages/tensorflow/python/framework/ops.py:7215\u001b[0m, in \u001b[0;36mraise_from_not_ok_status\u001b[0;34m(e, name)\u001b[0m\n\u001b[1;32m   7213\u001b[0m \u001b[38;5;28;01mdef\u001b[39;00m \u001b[38;5;21mraise_from_not_ok_status\u001b[39m(e, name):\n\u001b[1;32m   7214\u001b[0m   e\u001b[38;5;241m.\u001b[39mmessage \u001b[38;5;241m+\u001b[39m\u001b[38;5;241m=\u001b[39m (\u001b[38;5;124m\"\u001b[39m\u001b[38;5;124m name: \u001b[39m\u001b[38;5;124m\"\u001b[39m \u001b[38;5;241m+\u001b[39m name \u001b[38;5;28;01mif\u001b[39;00m name \u001b[38;5;129;01mis\u001b[39;00m \u001b[38;5;129;01mnot\u001b[39;00m \u001b[38;5;28;01mNone\u001b[39;00m \u001b[38;5;28;01melse\u001b[39;00m \u001b[38;5;124m\"\u001b[39m\u001b[38;5;124m\"\u001b[39m)\n\u001b[0;32m-> 7215\u001b[0m   \u001b[38;5;28;01mraise\u001b[39;00m core\u001b[38;5;241m.\u001b[39m_status_to_exception(e) \u001b[38;5;28;01mfrom\u001b[39;00m \u001b[38;5;28mNone\u001b[39m\n",
      "\u001b[0;31mInvalidArgumentError\u001b[0m: {{function_node __wrapped__BatchMatMulV2_device_/job:localhost/replica:0/task:0/device:GPU:0}} Matrix size-incompatible: In[0]: [115248,1,27], In[1]: [115248,32] [Op:BatchMatMulV2]"
     ]
    }
   ],
   "source": [
    "y_direct_koopman = predict_v_koopman(model_psi, model_k, x_data_scaler, u_data_scaler)"
   ]
  }
 ],
 "metadata": {
  "kernelspec": {
   "display_name": "tensor-koopman",
   "language": "python",
   "name": "tensor-koopman"
  },
  "language_info": {
   "codemirror_mode": {
    "name": "ipython",
    "version": 3
   },
   "file_extension": ".py",
   "mimetype": "text/x-python",
   "name": "python",
   "nbconvert_exporter": "python",
   "pygments_lexer": "ipython3",
   "version": "3.8.16"
  }
 },
 "nbformat": 4,
 "nbformat_minor": 5
}
