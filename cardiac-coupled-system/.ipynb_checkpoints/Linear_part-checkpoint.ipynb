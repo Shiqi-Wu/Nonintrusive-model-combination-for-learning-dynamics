{
 "cells": [
  {
   "cell_type": "code",
   "execution_count": 1,
   "id": "3c96cc19",
   "metadata": {},
   "outputs": [],
   "source": [
    "import os\n",
    "os.environ['CUDA_VISIBLE_DEVICES'] = '2'"
   ]
  },
  {
   "cell_type": "code",
   "execution_count": 2,
   "id": "d683059c",
   "metadata": {},
   "outputs": [
    {
     "name": "stderr",
     "output_type": "stream",
     "text": [
      "2023-02-24 10:01:38.328096: I tensorflow/core/platform/cpu_feature_guard.cc:193] This TensorFlow binary is optimized with oneAPI Deep Neural Network Library (oneDNN) to use the following CPU instructions in performance-critical operations:  SSE4.1 SSE4.2 AVX AVX2 AVX512F AVX512_VNNI FMA\n",
      "To enable them in other operations, rebuild TensorFlow with the appropriate compiler flags.\n",
      "2023-02-24 10:01:38.421129: I tensorflow/core/util/port.cc:104] oneDNN custom operations are on. You may see slightly different numerical results due to floating-point round-off errors from different computation orders. To turn them off, set the environment variable `TF_ENABLE_ONEDNN_OPTS=0`.\n"
     ]
    }
   ],
   "source": [
    "import tensorflow as tf\n",
    "gpus = tf.config.experimental.list_physical_devices('GPU')\n",
    "if gpus:\n",
    "  try:\n",
    "    tf.config.experimental.set_virtual_device_configuration(\n",
    "        gpus[0],[tf.config.experimental.VirtualDeviceConfiguration(memory_limit=5120)])\n",
    "  except RuntimeError as e:\n",
    "    print(e)"
   ]
  },
  {
   "cell_type": "code",
   "execution_count": 3,
   "id": "0b543770",
   "metadata": {},
   "outputs": [],
   "source": [
    "import numpy as np\n",
    "from Cardiac_electrophysiology import *"
   ]
  },
  {
   "cell_type": "code",
   "execution_count": 4,
   "id": "20517826",
   "metadata": {},
   "outputs": [
    {
     "name": "stdout",
     "output_type": "stream",
     "text": [
      "(50, 3, 51, 51)\n",
      "(50, 51, 51)\n"
     ]
    }
   ],
   "source": [
    "# Load data\n",
    "s = np.load('s_sample_50.npy')\n",
    "v = np.load('v_sample_50.npy')\n",
    "\n",
    "print(np.shape(s))\n",
    "print(np.shape(v))"
   ]
  },
  {
   "cell_type": "code",
   "execution_count": 5,
   "id": "b5375c45",
   "metadata": {},
   "outputs": [
    {
     "name": "stdout",
     "output_type": "stream",
     "text": [
      "(50, 51, 51)\n"
     ]
    }
   ],
   "source": [
    "# Build the input tensor\n",
    "DataModel = CE_DataModel()\n",
    "x1 = np.linspace(0,10,51)\n",
    "t = np.linspace(0,10,50)\n",
    "u_t = np.sin(t)\n",
    "u_x_mesh = DataModel.dx(x1,x1)\n",
    "u = u_t[:,np.newaxis,np.newaxis] * u_x_mesh[np.newaxis,:]\n",
    "print(np.shape(u))"
   ]
  },
  {
   "cell_type": "code",
   "execution_count": 6,
   "id": "cc0a9616",
   "metadata": {},
   "outputs": [],
   "source": [
    "# Build v_xx\n",
    "dlt_x = x1[1]-x1[0]\n",
    "v_train_xx = np.zeros(np.shape(v))\n",
    "for i in range(1, np.shape(v)[2]-1):\n",
    "    v_train_xx[:,:,i] = (v[:,:,i-1] + v[:,:,i+1] - 2*v[:,:,i])/dlt_x**2\n",
    "v_train_xx = v_train_xx[:,1:-1,1:-1]\n",
    "\n",
    "# Build v_yy\n",
    "dlt_y = x1[1]-x1[0]\n",
    "v_train_yy = np.zeros(np.shape(v))\n",
    "for i in range(1, np.shape(v)[1]-1):\n",
    "    v_train_yy[:,i,:] = (v[:,i-1,:] + v[:,i+1,:] - 2*v[:,i,:])/dlt_y**2\n",
    "v_train_yy = v_train_yy[:,1:-1,1:-1]\n",
    "\n",
    "# Build v_data, s_data\n",
    "v_train = v[:,1:-1,1:-1]\n",
    "s_train = s[:,:,1:-1,1:-1]"
   ]
  },
  {
   "cell_type": "code",
   "execution_count": 7,
   "id": "aa77a7f0",
   "metadata": {},
   "outputs": [
    {
     "name": "stdout",
     "output_type": "stream",
     "text": [
      "(115248, 4)\n",
      "(115248, 2)\n",
      "(115248, 1)\n"
     ]
    }
   ],
   "source": [
    "# Build training data\n",
    "v1 = np.reshape(v_train[2:,:,:],(-1, 1))\n",
    "v0 = np.reshape(v_train[1:-1,:,:],(-1,1))\n",
    "lacev_x0 = np.reshape(v_train_xx[1:-1,:,:],(-1,1))\n",
    "lacev_y0 = np.reshape(v_train_yy[1:-1,:,:],(-1,1))\n",
    "\n",
    "lace_data = np.concatenate((lacev_x0,lacev_y0),axis=1)\n",
    "\n",
    "m1 = np.reshape(s_train[2:,0,:,:],(-1,1))\n",
    "m0 = np.reshape(s_train[1:-1,0,:,:],(-1,1))\n",
    "n1 = np.reshape(s_train[2:,1,:,:],(-1,1))\n",
    "n0 = np.reshape(s_train[1:-1,1,:,:],(-1,1))\n",
    "h1 = np.reshape(s_train[2:,2,:,:],(-1,1))\n",
    "h0 = np.reshape(s_train[1:-1,2,:,:],(-1,1))\n",
    "\n",
    "x_data = np.concatenate((v0,m0,n0,h0),axis=1)\n",
    "y_data = np.concatenate((v1,m1,n1,h1),axis=1)\n",
    "u_data = np.reshape(u[1:-1,1:-1,1:-1],(-1,1))\n",
    "\n",
    "print(np.shape(x_data))\n",
    "print(np.shape(lace_data))\n",
    "print(np.shape(u_data))"
   ]
  },
  {
   "cell_type": "code",
   "execution_count": 9,
   "id": "752c7c01",
   "metadata": {},
   "outputs": [],
   "source": [
    "def compute_linear_weight(x,y):\n",
    "    y = np.reshape(y,(-1,1))\n",
    "    A = np.matmul(np.transpose(x),x)\n",
    "    b = np.matmul(np.transpose(x),y)\n",
    "    w = np.matmul(np.linalg.inv(A),b)\n",
    "    y_pred = np.matmul(x,w)\n",
    "    return w, y_pred\n",
    "\n",
    "fusion_data = np.concatenate((np.reshape(x_data[:,0],(-1,1)),lace_data),axis = 1)\n",
    "\n",
    "w, y_pred = compute_linear_weight(fusion_data, y_data[:,0])"
   ]
  },
  {
   "cell_type": "code",
   "execution_count": 12,
   "id": "b99d82e8",
   "metadata": {},
   "outputs": [
    {
     "data": {
      "image/png": "[encoded data removed]",
      "text/plain": [
       "<Figure size 640x480 with 1 Axes>"
      ]
     },
     "metadata": {},
     "output_type": "display_data"
    }
   ],
   "source": [
    "# plot linear regression\n",
    "import matplotlib.pyplot as plt\n",
    "# print(np.shape(y_data[:,0]))\n",
    "# The shape is 48 * 49 * 49\n",
    "# reshape y_data_scaler[:,0] and fushion data\n",
    "y_reshape = np.reshape(y_data[:,0],(48,49,49))\n",
    "fusion_reshape = np.reshape(fusion_data, (48,49,49,3))\n",
    "y_pred_reshape = w[0] * fusion_reshape[:,:,:,0] + w[1] * fusion_reshape[:,:,:,1] + w[2] * fusion_reshape[:,:,:,2]\n",
    "# a_axis = np.random.randint(0,48)\n",
    "# b_axis = np.random.randint(0,48)\n",
    "# print(a_axis)\n",
    "# print(b_axis)\n",
    "a_axis, b_axis = 37,34\n",
    "plt.plot(range(48),y_reshape[:,a_axis,b_axis])\n",
    "plt.plot(range(48),y_pred_reshape[:,a_axis,b_axis])\n",
    "# plt.plot(range(48),y_reshape[:,37,34])\n",
    "# plt.plot(range(48),y_pred_reshape[:,37,34])\n",
    "plt.show()"
   ]
  },
  {
   "cell_type": "code",
   "execution_count": 13,
   "id": "fbc5b53a",
   "metadata": {},
   "outputs": [],
   "source": [
    "np.save('y_linear_pred_reshape.npy', y_pred_reshape)"
   ]
  },
  {
   "cell_type": "code",
   "execution_count": 14,
   "id": "88b4945e",
   "metadata": {},
   "outputs": [
    {
     "ename": "SyntaxError",
     "evalue": "invalid syntax (517996358.py, line 1)",
     "output_type": "error",
     "traceback": [
      "\u001b[0;36m  Cell \u001b[0;32mIn[14], line 1\u001b[0;36m\u001b[0m\n\u001b[0;31m    form dic_operator import *\u001b[0m\n\u001b[0m         ^\u001b[0m\n\u001b[0;31mSyntaxError\u001b[0m\u001b[0;31m:\u001b[0m invalid syntax\n"
     ]
    }
   ],
   "source": [
    "form dic_operator import *"
   ]
  },
  {
   "cell_type": "code",
   "execution_count": null,
   "id": "b1cf5a27",
   "metadata": {},
   "outputs": [],
   "source": []
  }
 ],
 "metadata": {
  "kernelspec": {
   "display_name": "tensor-koopman",
   "language": "python",
   "name": "tensor-koopman"
  },
  "language_info": {
   "codemirror_mode": {
    "name": "ipython",
    "version": 3
   },
   "file_extension": ".py",
   "mimetype": "text/x-python",
   "name": "python",
   "nbconvert_exporter": "python",
   "pygments_lexer": "ipython3",
   "version": "3.8.16"
  }
 },
 "nbformat": 4,
 "nbformat_minor": 5
}
